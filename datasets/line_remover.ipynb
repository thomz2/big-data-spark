{
 "cells": [
  {
   "cell_type": "code",
   "execution_count": 5,
   "metadata": {},
   "outputs": [
    {
     "name": "stdout",
     "output_type": "stream",
     "text": [
      "Linhas após \"50000\" deletadas com sucesso do arquivo \"./debate_tweets_c.tsv\".\n"
     ]
    }
   ],
   "source": [
    "def deletar_linhas_apos_valor(arquivo, valor):\n",
    "  \"\"\"\n",
    "  Deleta as linhas de um arquivo de texto após a primeira ocorrência de um valor específico.\n",
    "\n",
    "  Argumentos:\n",
    "    arquivo (str): Caminho para o arquivo de texto.\n",
    "    valor (str): Valor a ser buscado no arquivo.\n",
    "\n",
    "  Retorna:\n",
    "    None\n",
    "  \"\"\"\n",
    "\n",
    "  linhas = []\n",
    "  deletando = False\n",
    "  i = 0\n",
    "  with open(arquivo, 'r', encoding='utf-8') as f:\n",
    "    for linha in f:\n",
    "      i += 1\n",
    "      if valor == i:\n",
    "        deletando = True\n",
    "      if not deletando:\n",
    "        linhas.append(linha)\n",
    "\n",
    "  with open(arquivo, 'w', encoding='utf-8') as f:\n",
    "    f.writelines(linhas)\n",
    "\n",
    "# Exemplo de uso\n",
    "arquivo = './debate_tweets_c.tsv'\n",
    "valor = 50000\n",
    "\n",
    "deletar_linhas_apos_valor(arquivo, valor)\n",
    "\n",
    "print(f'Linhas após \"{valor}\" deletadas com sucesso do arquivo \"{arquivo}\".')\n"
   ]
  }
 ],
 "metadata": {
  "kernelspec": {
   "display_name": "Python 3",
   "language": "python",
   "name": "python3"
  },
  "language_info": {
   "codemirror_mode": {
    "name": "ipython",
    "version": 3
   },
   "file_extension": ".py",
   "mimetype": "text/x-python",
   "name": "python",
   "nbconvert_exporter": "python",
   "pygments_lexer": "ipython3",
   "version": "3.8.8"
  }
 },
 "nbformat": 4,
 "nbformat_minor": 2
}
